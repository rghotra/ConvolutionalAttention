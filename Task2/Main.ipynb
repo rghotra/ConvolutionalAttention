{
 "cells": [
  {
   "cell_type": "code",
   "execution_count": 1,
   "id": "isolated-princeton",
   "metadata": {},
   "outputs": [],
   "source": [
    "import pipeline\n",
    "import models"
   ]
  },
  {
   "cell_type": "code",
   "execution_count": 4,
   "id": "smoking-clock",
   "metadata": {},
   "outputs": [],
   "source": [
    "baselines = ['CNN_ATT-pool4_relu', 'CNN_ATT-pool25_relu', 'CNN_ATT-pool4_exp', 'CNN_ATT-pool4_exp']\n",
    "categories = ['heads', 'key_size']\n",
    "variants = [[1, 4, 8, 16], [32, 64, 128, 256]]\n",
    "trials = 5\n",
    "\n",
    "input_shape = (200, 4)\n",
    "num_out = 1\n",
    "\n",
    "b_heads = 8\n",
    "b_key = 64"
   ]
  },
  {
   "cell_type": "code",
   "execution_count": 7,
   "id": "after-vatican",
   "metadata": {},
   "outputs": [
    {
     "name": "stdout",
     "output_type": "stream",
     "text": [
      "\n",
      "0.0% completed\n",
      "CNN_ATT-pool4_relu heads model-1 trial-1\n",
      "438/438 [==============================] - 11s 22ms/step - loss: 0.7367 - auroc: 0.7004 - aupr: 0.6771 - val_loss: 0.5811 - val_auroc: 0.8363 - val_aupr: 0.8238\n"
     ]
    }
   ],
   "source": [
    "total = 0\n",
    "for a in range(len(baselines)):\n",
    "    for i in range(len(categories)):\n",
    "        for j in range(len(variants[i])):\n",
    "            for k in range(1, trials+1):\n",
    "                model_num = a*len(categories)*len(variants[i])*trials + i*len(variants[i])*trials + j*trials + k - 1\n",
    "                print('\\n' + str(model_num/(len(baselines)*len(categories)*len(variants[i])*trials)*100) + '% completed')\n",
    "                print(baselines[a] + ' ' + categories[i] + ' model-' + str(variants[i][j]) + ' trial-' + str(k))\n",
    "\n",
    "                num_heads = b_heads if categories[i] != 'heads' else variants[i][j]\n",
    "                key_size = b_key if categories[i] != 'key_sizes' else variants[i][j]\n",
    "                pool_size = 4 if a % 2 == 0 else 25\n",
    "                activation = 'relu' if a < 2 else 'exponential'\n",
    "\n",
    "                model = models.CNN_ATT(in_shape=input_shape, activation=activation, pool_size=pool_size, heads=num_heads, key_size=key_size, num_out=num_out)\n",
    "                \n",
    "                pipeline.execute_pipeline(baselines[a], categories[i], variants[i][j], k, model)\n",
    "                \n",
    "                total += 1"
   ]
  }
 ],
 "metadata": {
  "kernelspec": {
   "display_name": "Python 3",
   "language": "python",
   "name": "python3"
  },
  "language_info": {
   "codemirror_mode": {
    "name": "ipython",
    "version": 3
   },
   "file_extension": ".py",
   "mimetype": "text/x-python",
   "name": "python",
   "nbconvert_exporter": "python",
   "pygments_lexer": "ipython3",
   "version": "3.8.7"
  }
 },
 "nbformat": 4,
 "nbformat_minor": 5
}
