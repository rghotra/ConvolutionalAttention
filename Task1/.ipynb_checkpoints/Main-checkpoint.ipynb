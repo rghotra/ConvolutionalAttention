{
 "cells": [
  {
   "cell_type": "code",
   "execution_count": null,
   "id": "07f16321",
   "metadata": {},
   "outputs": [],
   "source": [
    "import pipeline\n",
    "import models"
   ]
  },
  {
   "cell_type": "code",
   "execution_count": null,
   "id": "3ce4cdbf",
   "metadata": {},
   "outputs": [],
   "source": [
    "baselines = ['CNN_LSTM_ATT']\n",
    "categories = ['CNN_LSTM_ATT']\n",
    "variants = [['pool4_relu', 'pool25_relu', 'pool4_exp', 'pool25_exp']]\n",
    "trials = 5\n",
    "\n",
    "\"\"\"baselines = ['CNN_TRANS-pool4_exp', 'CNN_TRANS-pool25_exp']\n",
    "categories = ['num_layers']\n",
    "variants = [[1, 2, 4]]\n",
    "trials = 5\"\"\"\n",
    "\n",
    "input_shape = (200, 4)\n",
    "num_out = 12\n",
    "\n",
    "b_heads = 8\n",
    "b_key = 64"
   ]
  },
  {
   "cell_type": "code",
   "execution_count": null,
   "id": "65a04874",
   "metadata": {},
   "outputs": [],
   "source": [
    "total = 0\n",
    "for a in range(len(baselines)):\n",
    "    for i in range(len(categories)):\n",
    "        for j in range(len(variants[i])):\n",
    "            for k in range(1, trials+1):\n",
    "                model_num = a*len(categories)*len(variants[i])*trials + i*len(variants[i])*trials + j*trials + k - 1\n",
    "                print('\\n\\n' + str(model_num/(len(baselines)*len(categories)*len(variants[i])*trials)*100) + '% completed')\n",
    "                print('\\n' + baselines[a] + ' ' + categories[i] + ' model-' + str(variants[i][j]) + ' trial-' + str(k))\n",
    "\n",
    "                num_heads = b_heads\n",
    "                key_size = b_key\n",
    "                pool_size = 4 if j % 2 == 0 else 25\n",
    "                activation = 'relu' if j < 2 else 'exponential'\n",
    "\n",
    "                model = models.CNN_LSTM_ATT(activation=activation, pool_size=pool_size)\n",
    "\n",
    "                pipeline.execute_pipeline(baselines[a], categories[i], variants[i][j], k, model, 100)\n",
    "                \n",
    "                total += 1"
   ]
  }
 ],
 "metadata": {
  "kernelspec": {
   "display_name": "Python 3",
   "language": "python",
   "name": "python3"
  },
  "language_info": {
   "codemirror_mode": {
    "name": "ipython",
    "version": 3
   },
   "file_extension": ".py",
   "mimetype": "text/x-python",
   "name": "python",
   "nbconvert_exporter": "python",
   "pygments_lexer": "ipython3",
   "version": "3.8.5"
  }
 },
 "nbformat": 4,
 "nbformat_minor": 5
}
